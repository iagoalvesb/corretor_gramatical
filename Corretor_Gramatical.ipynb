{
 "cells": [
  {
   "cell_type": "code",
   "execution_count": 1,
   "id": "16afa4e1",
   "metadata": {},
   "outputs": [],
   "source": [
    "import unidecode \n",
    "import numpy as np"
   ]
  },
  {
   "cell_type": "code",
   "execution_count": 2,
   "id": "3926d75d",
   "metadata": {
    "scrolled": true
   },
   "outputs": [],
   "source": [
    "def get_soundex_word(palavra):\n",
    "    palavra = unidecode.unidecode(palavra)\n",
    "    for index, letra in enumerate(palavra.upper()):\n",
    "        if index == 0:\n",
    "            soundex = letra\n",
    "            letra_anterior = letra        \n",
    "            continue\n",
    "\n",
    "        if letra in \"AEIOUHW\":\n",
    "            letra_anterior = letra        \n",
    "            continue    \n",
    "        \n",
    "        dict_cod = {\"BFPV\": \"1\",\n",
    "                    \"CÇGJKQSXZ\": \"2\",\n",
    "                    \"DT\": \"3\",\n",
    "                    \"L\": \"4\",\n",
    "                    \"MN\": \"5\",\n",
    "                    \"R\": \"6\"}\n",
    "        \n",
    "        \n",
    "        # assume o valor do codigo correspondente a letra no dicionario dict_cod ou o valor 0\n",
    "        cod = '0' if letra not in \"\".join([*dict_cod]) else [dict_cod[key] for key in dict_cod.keys() if letra in key][0]\n",
    "        \n",
    "        if cod == '0':\n",
    "            continue\n",
    "\n",
    "        # se a letra anterior estiver em \"hw\" ela não é contabilizada e se a letra repetir também não conta 2 vezes\n",
    "        if letra_anterior in \"HW\" and soundex[-1] == cod:\n",
    "            letra_anterior = letra\n",
    "            continue\n",
    "\n",
    "        # se a letra anterior estiver em \"aeiou\" ela não é contabilizada mas se a letra repetir ela conta 2 vezes\n",
    "        # ou se a letra anterior for diferente da letra atual, também irá adicionar o novo código da letra\n",
    "        elif letra_anterior in \"AEIOU\" or soundex[-1] != cod:            \n",
    "            letra_anterior = letra\n",
    "            soundex += cod\n",
    "            if len(soundex) == 4:\n",
    "                return soundex\n",
    "            continue\n",
    "\n",
    "    \n",
    "    return soundex.ljust(4, '0')\n",
    "            \n",
    "    \n",
    "def get_soundex(string, separar_palavras=False):\n",
    "    soundex = []\n",
    "    \n",
    "    # se a entrada for uma lista\n",
    "    if isinstance(string, list):\n",
    "        for texto in string:\n",
    "            if separar_palavras:\n",
    "                for palavra in texto.split():\n",
    "                    palavra = palavra.strip()\n",
    "                    palavra = palavra.translate(str.maketrans('', '', \"-!\\\"#$%&'()*+,./:;<=>?@[\\\\]^_`{|}~\"))\n",
    "                    soundex.append(get_soundex_word(palavra))\n",
    "            else:\n",
    "                texto = texto.translate(str.maketrans('', '', \"-!\\\"#$%&'()*+,./:;<=>?@[\\\\]^_`{|}~\"))\n",
    "                soundex.append(get_soundex_word(texto.replace(\" \", \"\")))\n",
    "        return soundex\n",
    "    \n",
    "    if separar_palavras:\n",
    "        string = string.split()\n",
    "        for palavra in string:\n",
    "            palavra = palavra.translate(str.maketrans('', '', \"-!\\\"#$%&'()*+,./:;<=>?@[\\\\]^_`{|}~\"))\n",
    "            soundex.append(get_soundex_word(palavra))\n",
    "        return soundex\n",
    "    else:\n",
    "        string = string.translate(str.maketrans('', '', \"-!\\\"#$%&'()*+,./:;<=>?@[\\\\]^_`{|}~\"))\n",
    "        soundex.append(get_soundex_word(string.replace(\" \", \"\")))\n",
    "        return soundex"
   ]
  },
  {
   "cell_type": "code",
   "execution_count": 3,
   "id": "f22c6fd8",
   "metadata": {
    "scrolled": true
   },
   "outputs": [],
   "source": [
    "def edit_distance(w1, w2):\n",
    "    cols = len(w1)+ 1\n",
    "    rows = len(w2) + 1\n",
    "    matrix = np.zeros([rows,cols])\n",
    "    \n",
    "    for i in range(cols):\n",
    "        matrix[0][i] = i\n",
    "    for j in range(rows):\n",
    "        matrix[j][0] = j\n",
    "    \n",
    "    for i in range(1, rows):\n",
    "        for j in range(1, cols):\n",
    "            cost_rep = matrix[i-1][j-1]\n",
    "            cost_del = matrix[i-1][j]\n",
    "            cost_add = matrix[i][j-1]\n",
    "            # se as letras não coincidirem\n",
    "            if min(cost_rep, cost_del, cost_add) == cost_rep and w1[j-1] == w2[i-1]:            \n",
    "                cost = cost_rep\n",
    "            else:\n",
    "                cost = min(cost_rep, cost_del, cost_add) + 1\n",
    "            \n",
    "            matrix[i][j] = cost\n",
    "                \n",
    "    return matrix[-1,-1]"
   ]
  },
  {
   "cell_type": "code",
   "execution_count": 4,
   "id": "c3b126de",
   "metadata": {},
   "outputs": [
    {
     "name": "stdout",
     "output_type": "stream",
     "text": [
      "Palavras antes da limpeza: 29858\n",
      "Palavras depos da limpeza: 28637\n"
     ]
    }
   ],
   "source": [
    "with open('Lista-de-Palavras.txt', encoding='utf-8') as f:\n",
    "    palavras = f.read().splitlines()\n",
    "\n",
    "print(f\"Palavras antes da limpeza: {len(palavras)}\")\n",
    "\n",
    "palavras = [palavra.lower() for palavra in palavras if not any(letra in \"-!\\\"#$%&'()*+,./:;<=>?@[\\\\]^_`{|}~\" for letra in palavra)]\n",
    "print(f\"Palavras depos da limpeza: {len(palavras)}\")"
   ]
  },
  {
   "cell_type": "code",
   "execution_count": 5,
   "id": "557bddde",
   "metadata": {},
   "outputs": [],
   "source": [
    "# dicionário com as chaves sendo as palavras e os valores sendo o soundex da palavra\n",
    "palavras_codigo = {palavra: get_soundex(palavra)[0] for palavra in palavras}\n",
    "palavras_codigo_np = np.array(list(palavras_codigo.items()))"
   ]
  },
  {
   "cell_type": "code",
   "execution_count": 6,
   "id": "a0ba02ab",
   "metadata": {},
   "outputs": [],
   "source": [
    "# retorna as possíveis correções para a palavra com erro de ortografia\n",
    "def get_escrita_correta(palavra_digitada):\n",
    "    palavra_digitada = palavra_digitada.lower()\n",
    "    cod = get_soundex(palavra_digitada)[0]\n",
    "    possiveis_correcoes = {}\n",
    "    \n",
    "    for palavra_codigo in palavras_codigo_np:\n",
    "        if edit_distance(palavra_codigo[1], cod) < 3 and edit_distance(palavra_codigo[0], palavra_digitada) < 3:\n",
    "            possiveis_correcoes[palavra_codigo[0]] = edit_distance(palavra_codigo[0], palavra_digitada)\n",
    "    \n",
    "    # ordena as palavras da mais provável pra menos provavel\n",
    "    possiveis_correcoes = {k: v for k, v in sorted(possiveis_correcoes.items(), key=lambda item: item[1])}\n",
    "    # obtém apenas as 5 palavras mais prováveis\n",
    "    possiveis_correcoes = {k: possiveis_correcoes[k] for k in list(possiveis_correcoes)[:5]}\n",
    "    return possiveis_correcoes"
   ]
  },
  {
   "cell_type": "code",
   "execution_count": 7,
   "id": "2de802d4",
   "metadata": {},
   "outputs": [],
   "source": [
    "# retorna dicionário com as chaves sendo as palavras com erros de ortografia e os valroes são outros dicionários\n",
    "# com as chaves sendo as possíveis correcoes e os valores a % de conficança que aquela é a palavra correta\n",
    "def get_correcao(*palavras, normalizar_acentuacao=True):\n",
    "    correcoes_total = {}\n",
    "    for palavra in palavras:\n",
    "        correcoes = {}\n",
    "        if normalizar_acentuacao:\n",
    "            palavra_normalizada = unidecode.unidecode(palavra)\n",
    "            possiveis_correcoes = get_escrita_correta(palavra_normalizada)\n",
    "        else:\n",
    "            possiveis_correcoes = get_escrita_correta(palavra)\n",
    "        sum_dist = sum(possiveis_correcoes.values())\n",
    "        sum_dist_para_divisao = 0\n",
    "        for pos_cor, dist in possiveis_correcoes.items():\n",
    "            if dist == 0:\n",
    "                correcoes[pos_cor] = 1\n",
    "                break\n",
    "            sum_dist_para_divisao += (dist/sum_dist)**-1\n",
    "        else:\n",
    "            for possivel_correcao, dist in possiveis_correcoes.items():\n",
    "                pct_chance = round((dist/sum_dist)**-1 / sum_dist_para_divisao, 3)\n",
    "                correcoes[possivel_correcao] = pct_chance\n",
    "        correcoes_total[palavra] = correcoes\n",
    "    return correcoes_total"
   ]
  },
  {
   "cell_type": "code",
   "execution_count": 8,
   "id": "81cf0ac9",
   "metadata": {},
   "outputs": [
    {
     "name": "stdout",
     "output_type": "stream",
     "text": [
      "Palavra digitada de forma errada: \"onstituir\"\n",
      "Possivel correcao: \"constituir\".    Precisão: 50.0%\n",
      "Possivel correcao: \"instituir\".     Precisão: 50.0%\n",
      "------------------------------\n",
      "Palavra digitada de forma errada: \"comumicacao\"\n",
      "Possivel correcao: \"comunicacao\".   Precisão: 66.7%\n",
      "Possivel correcao: \"complicacao\".   Precisão: 33.3%\n",
      "------------------------------\n",
      "Palavra digitada de forma errada: \"comforme\"\n",
      "Possivel correcao: \"conforme\".      Precisão: 100.0%\n",
      "------------------------------\n",
      "Palavra digitada de forma errada: \"voxe\"\n",
      "Possivel correcao: \"boxe\".          Precisão: 25.0%\n",
      "Possivel correcao: \"voce\".          Precisão: 25.0%\n",
      "Possivel correcao: \"vox\".           Precisão: 25.0%\n",
      "Possivel correcao: \"axe\".           Precisão: 12.5%\n",
      "Possivel correcao: \"bode\".          Precisão: 12.5%\n",
      "------------------------------\n"
     ]
    }
   ],
   "source": [
    "# verifica as correções para as palavras que entram na função\n",
    "corrigindo = get_correcao('onstituir', \"comumicacao\", 'comforme', 'voxe')\n",
    "for key, value in corrigindo.items():\n",
    "    print(f'Palavra digitada de forma errada: \"{key}\"')\n",
    "    for k, v in value.items():\n",
    "        print(f'Possivel correcao: \"{k}\". '.ljust(35, ' '), f'Precisão: {round(v*100, 2)}%')\n",
    "    print('-'*30)"
   ]
  }
 ],
 "metadata": {
  "kernelspec": {
   "display_name": "Python 3 (ipykernel)",
   "language": "python",
   "name": "python3"
  },
  "language_info": {
   "codemirror_mode": {
    "name": "ipython",
    "version": 3
   },
   "file_extension": ".py",
   "mimetype": "text/x-python",
   "name": "python",
   "nbconvert_exporter": "python",
   "pygments_lexer": "ipython3",
   "version": "3.9.7"
  }
 },
 "nbformat": 4,
 "nbformat_minor": 5
}
